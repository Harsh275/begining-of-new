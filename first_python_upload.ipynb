{
  "nbformat": 4,
  "nbformat_minor": 0,
  "metadata": {
    "colab": {
      "name": "Untitled0.ipynb",
      "provenance": [],
      "collapsed_sections": [],
      "authorship_tag": "ABX9TyN0aBSmuf2KL3q0P6RKRMuk",
      "include_colab_link": true
    },
    "kernelspec": {
      "name": "python3",
      "display_name": "Python 3"
    }
  },
  "cells": [
    {
      "cell_type": "markdown",
      "metadata": {
        "id": "view-in-github",
        "colab_type": "text"
      },
      "source": [
        "<a href=\"https://colab.research.google.com/github/Harsh275/begining-of-new/blob/master/first_python_upload.ipynb\" target=\"_parent\"><img src=\"https://colab.research.google.com/assets/colab-badge.svg\" alt=\"Open In Colab\"/></a>"
      ]
    },
    {
      "cell_type": "code",
      "metadata": {
        "id": "OI1DQokEOc5s",
        "colab_type": "code",
        "colab": {
          "base_uri": "https://localhost:8080/",
          "height": 88
        },
        "outputId": "c8f54b0a-a13d-46b3-90d6-ebd2886975b5"
      },
      "source": [
        " \n",
        "#Hi, Harry bhai I feel like king after making this dictionary\n",
        "d={\"money\":\"It's a medium of getting happy\",\n",
        "    \"Goosebumps\":\"A sensation that occur when we get scared or exited\",\n",
        "    \"Heroic\":\"doing some thing without any self profit\"}\n",
        " var=d[input()]\n",
        "print(var)\n",
        "#made with help of Harry bhai\n",
        " \n",
        " \n",
        " \n",
        "if 0 in d == d(0):  \n",
        "  print(\"yeah\")\n",
        "elif 1 in d == d(1):  \n",
        "  print(\"boom\")\n",
        "else:\n",
        "  print(\"nooo!\")"
      ],
      "execution_count": 30,
      "outputs": [
        {
          "output_type": "stream",
          "text": [
            "Heroic\n",
            "doing some thing without any self profit\n",
            "nooo!\n"
          ],
          "name": "stdout"
        }
      ]
    }
  ]
}