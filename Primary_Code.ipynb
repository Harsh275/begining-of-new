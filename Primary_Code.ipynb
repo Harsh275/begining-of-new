{
  "nbformat": 4,
  "nbformat_minor": 0,
  "metadata": {
    "colab": {
      "name": "Primary_Code.ipynb",
      "provenance": [],
      "authorship_tag": "ABX9TyPEnAjpzDOgum2TmIqQ2GmN",
      "include_colab_link": true
    },
    "kernelspec": {
      "name": "python3",
      "display_name": "Python 3"
    }
  },
  "cells": [
    {
      "cell_type": "markdown",
      "metadata": {
        "id": "view-in-github",
        "colab_type": "text"
      },
      "source": [
        "<a href=\"https://colab.research.google.com/github/Harsh275/begining-of-new/blob/master/Primary_Code.ipynb\" target=\"_parent\"><img src=\"https://colab.research.google.com/assets/colab-badge.svg\" alt=\"Open In Colab\"/></a>"
      ]
    },
    {
      "cell_type": "code",
      "metadata": {
        "id": "HcvUR1JdfFH4"
      },
      "source": [
        "var = input(\"enter first no\\n\")\n",
        "print(\"+\")\n",
        "bar = input(\"enter second no\\n\")\n",
        "print(\"\\ntotal\\n\" + str(int(var) + int(bar)))"
      ],
      "execution_count": null,
      "outputs": []
    },
    {
      "cell_type": "code",
      "metadata": {
        "id": "BOAy1EsHj2RJ"
      },
      "source": [
        "bro = int(input(\"Enter ur age\\n\"))\n",
        "if bro>=100:\n",
        "    print(\"invalid age\")\n",
        "elif bro<=7:\n",
        "    print(\"invalid age\")\n",
        "elif bro>18:\n",
        "    print('U can drive')\n",
        "elif bro==18:\n",
        "    print('U have to pay a visit')\n",
        "else:\n",
        "    print (\"Result\\nU can't drive\")"
      ],
      "execution_count": null,
      "outputs": []
    },
    {
      "cell_type": "code",
      "metadata": {
        "id": "SKEgCUlHolLN"
      },
      "source": [
        "vr = int(input(\"Enter First no.\\n\" ))\n",
        "vR = input(\"Enter operand\\n\")\n",
        "Vr = int(input(\"Enter second no.\\n\" ))\n",
        "if vR=='+':\n",
        "    print(\"Answer\\n\", vr + Vr)\n",
        "elif vR=='-':\n",
        "    print(\"Answer\\n\", vr - Vr)\n",
        "elif vR=='/':\n",
        "    print(\"Answer\\n\", vr / Vr)\n",
        "elif vR=='*':\n",
        "    print(\"Answer\\n\", vr * Vr)\n",
        "else:\n",
        "    print (\"recheck no.'s\")"
      ],
      "execution_count": null,
      "outputs": []
    },
    {
      "cell_type": "code",
      "metadata": {
        "id": "Zh_oIggTU0nS"
      },
      "source": [
        "var = int(input(\"Enter A digit\\n\", ))\n",
        "while(True):\n",
        "    var = int(input(\"Re-Enter A digit\\n\", )) \n",
        "    if var<100:\n",
        "        continue\n",
        "    else:\n",
        "        print(\"u logged a bigger no.\")\n",
        "        break"
      ],
      "execution_count": null,
      "outputs": []
    },
    {
      "cell_type": "code",
      "metadata": {
        "id": "iBWYSlqyeqzu"
      },
      "source": [
        " \n",
        "print(\"     Guess the no. Game\\n\")\n",
        "b = 9\n",
        "while(1):\n",
        "    print(\"No. Of Guesses Left\")  \n",
        "    print(b)\n",
        "    var = int(input('\\n Enter no.\\n'))\n",
        "    while(1):\n",
        "        if var<18:\n",
        "            print(\"Enter a bigger no.\\n\")\n",
        "            break\n",
        "        elif var>18:\n",
        "            print(\"Enter a smaller no.\\n\")\n",
        "            break\n",
        "        else:\n",
        "            print(\" You Guess the right no.\\n \\t You Won!\")\n",
        "            break\n",
        "    if b==1:\n",
        "        print(\"\\t Game over\")\n",
        "        break\n",
        "    b -= 1\n",
        "    if var==18:\n",
        "        break"
      ],
      "execution_count": null,
      "outputs": []
    },
    {
      "cell_type": "code",
      "metadata": {
        "id": "nH_oymfp7lU3"
      },
      "source": [
        "li = [2 , 3, \"harsh\",38, 83,73 , 39,73]\n",
        "for item in li:\n",
        "    if str(item).isnumeric() and item>6:\n",
        "        print (item)"
      ],
      "execution_count": null,
      "outputs": []
    },
    {
      "cell_type": "code",
      "metadata": {
        "id": "4giy9tJhApy0"
      },
      "source": [
        "l = [28, 38, 84,10]\n",
        "s = l\n",
        "print(type(s))\n",
        "s.sort(10)\n",
        "print(s)"
      ],
      "execution_count": null,
      "outputs": []
    },
    {
      "cell_type": "code",
      "metadata": {
        "id": "s6hJDKC6oaPm"
      },
      "source": [
        "D1 = {\"intruder\" : \"robber\",\n",
        "\"imposter\" : \"killer\",\n",
        "\"teacher\" : \"unpredictable creatures\"}\n",
        "De = D1.get(input(\" Search meaning\\n \"))\n",
        "print(\"\\n Meaning\\n \" + De)"
      ],
      "execution_count": null,
      "outputs": []
    }
  ]
}